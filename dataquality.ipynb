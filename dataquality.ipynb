{
 "cells": [
  {
   "cell_type": "code",
   "execution_count": null,
   "metadata": {},
   "outputs": [],
   "source": [
    "import pandas as pd\n",
    "import json\n",
    "import great_expectations as ge"
   ]
  },
  {
   "cell_type": "code",
   "execution_count": null,
   "metadata": {},
   "outputs": [],
   "source": [
    "my_df = ge.read_csv(\"http://bit.ly/kaggletrain\")"
   ]
  },
  {
   "cell_type": "code",
   "execution_count": null,
   "metadata": {},
   "outputs": [],
   "source": [
    "my_df"
   ]
  },
  {
   "cell_type": "code",
   "execution_count": null,
   "metadata": {},
   "outputs": [],
   "source": [
    "# df = pd.read_csv(\"http://bit.ly/kaggletrain\")\n",
    "\n",
    "# df = ge.from_pandas(my_pandas_dataframe)"
   ]
  },
  {
   "cell_type": "code",
   "execution_count": null,
   "metadata": {},
   "outputs": [],
   "source": [
    "my_df.head()"
   ]
  },
  {
   "cell_type": "code",
   "execution_count": null,
   "metadata": {},
   "outputs": [],
   "source": [
    "my_df.Pclass.value_counts()"
   ]
  },
  {
   "cell_type": "code",
   "execution_count": null,
   "metadata": {},
   "outputs": [],
   "source": [
    "my_df[my_df.Age==35].head()"
   ]
  },
  {
   "cell_type": "code",
   "execution_count": null,
   "metadata": {},
   "outputs": [],
   "source": [
    "my_df.expect_column_distinct_values_to_be_in_set(\"Sex\", [\"male\", \"female\"])"
   ]
  },
  {
   "cell_type": "code",
   "execution_count": null,
   "metadata": {},
   "outputs": [],
   "source": [
    "my_df.expect_column_values_to_be_in_set(\"Pclass\", [1,3], mostly=.85)"
   ]
  },
  {
   "cell_type": "code",
   "execution_count": null,
   "metadata": {},
   "outputs": [],
   "source": [
    "from great_expectations.dataset import PandasDataset, MetaPandasDataset\n",
    "\n",
    "class TitanicDataset(PandasDataset):\n",
    "\n",
    "    _data_asset_type = \"TitanicDataset\"\n",
    "\n",
    "    @MetaPandasDataset.column_map_expectation\n",
    "    def expect_column_string_not_null_or_empty(self, column):\n",
    "        \"\"\" \n",
    "        Custom expectation that checks a string column's value for each row is not NULL and not an empty string\n",
    "        \"\"\"\n",
    "        return column.map(lambda x: (pd.notnull(x)) & (x.strip()!=\"\"))\n",
    "\n",
    "    \n",
    "    @MetaPandasDataset.column_map_expectation\n",
    "    def expect_column_in_range(self, column, range_min, range_max):\n",
    "        \"\"\"\n",
    "        Custom expectation that checks that the column's value for each row is in range [range_min, range_max]\n",
    "        \"\"\"\n",
    "        return column.map(lambda x: (range_min <= float(x) <= range_max))\n",
    "    \n"
   ]
  },
  {
   "cell_type": "code",
   "execution_count": null,
   "metadata": {},
   "outputs": [],
   "source": [
    "my_df = ge.from_pandas(pd.DataFrame.from_records(my_df), dataset_class=TitanicDataset)"
   ]
  },
  {
   "cell_type": "code",
   "execution_count": null,
   "metadata": {},
   "outputs": [],
   "source": [
    "my_df.expect_column_string_not_null_or_empty(\"Name\")\n"
   ]
  },
  {
   "cell_type": "code",
   "execution_count": null,
   "metadata": {},
   "outputs": [],
   "source": [
    "my_df.expect_column_values_to_be_unique(column=\"PassengerId\")"
   ]
  },
  {
   "cell_type": "code",
   "execution_count": null,
   "metadata": {},
   "outputs": [],
   "source": [
    "my_df.expect_column_in_range(\"Fare\", range_min=1, range_max=50)"
   ]
  },
  {
   "cell_type": "code",
   "execution_count": null,
   "metadata": {},
   "outputs": [],
   "source": [
    "my_df.validate()"
   ]
  },
  {
   "cell_type": "code",
   "execution_count": null,
   "metadata": {},
   "outputs": [],
   "source": [
    "my_df.get_expectation_suite()\n",
    "# my_df.get_expectation_suite(discard_failed_expectations=False)"
   ]
  },
  {
   "cell_type": "code",
   "execution_count": null,
   "metadata": {},
   "outputs": [],
   "source": [
    "with open( \"my_expectation_file.json\", \"w\") as my_file:\n",
    "    my_file.write(\n",
    "        json.dumps(my_df.get_expectation_suite().to_json_dict())\n",
    "        # json.dumps(my_df.validate().to_json_dict())\n",
    "    )"
   ]
  },
  {
   "cell_type": "code",
   "execution_count": null,
   "metadata": {},
   "outputs": [],
   "source": []
  }
 ],
 "metadata": {
  "kernelspec": {
   "display_name": "Python 3.8.13 64-bit ('shims')",
   "language": "python",
   "name": "python3"
  },
  "language_info": {
   "codemirror_mode": {
    "name": "ipython",
    "version": 3
   },
   "file_extension": ".py",
   "mimetype": "text/x-python",
   "name": "python",
   "nbconvert_exporter": "python",
   "pygments_lexer": "ipython3",
   "version": "3.8.13"
  },
  "orig_nbformat": 4,
  "vscode": {
   "interpreter": {
    "hash": "9ac03a0a6051494cc606d484d27d20fce22fb7b4d169f583271e11d5ba46a56e"
   }
  }
 },
 "nbformat": 4,
 "nbformat_minor": 2
}
